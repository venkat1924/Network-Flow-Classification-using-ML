{
  "nbformat": 4,
  "nbformat_minor": 0,
  "metadata": {
    "colab": {
      "provenance": []
    },
    "kernelspec": {
      "name": "python3",
      "display_name": "Python 3"
    },
    "language_info": {
      "name": "python"
    }
  },
  "cells": [
    {
      "cell_type": "code",
      "execution_count": 1,
      "metadata": {
        "id": "n20VxiLpVujk"
      },
      "outputs": [],
      "source": [
        "import pandas as pd"
      ]
    },
    {
      "cell_type": "code",
      "source": [
        "df=pd.read_csv('/content/dataset_sdn (1).csv', memory_map=True, header='infer')"
      ],
      "metadata": {
        "id": "Y-JSIRFYV7dy"
      },
      "execution_count": 6,
      "outputs": []
    },
    {
      "cell_type": "code",
      "source": [
        "for column in df.columns:\n",
        "    print(f\"Column: {column}\")\n",
        "    print(df[column].value_counts())\n",
        "    print(\"------------------------\")"
      ],
      "metadata": {
        "id": "nXNyfLnCXdTu"
      },
      "execution_count": null,
      "outputs": []
    },
    {
      "cell_type": "code",
      "source": [
        "df['Protocol'].unique()"
      ],
      "metadata": {
        "colab": {
          "base_uri": "https://localhost:8080/"
        },
        "id": "fZ-DOZgG87J_",
        "outputId": "2956aca3-2086-4607-d7ee-0c32e5d530a8"
      },
      "execution_count": 66,
      "outputs": [
        {
          "output_type": "execute_result",
          "data": {
            "text/plain": [
              "array(['UDP', 'TCP', 'ICMP'], dtype=object)"
            ]
          },
          "metadata": {},
          "execution_count": 66
        }
      ]
    },
    {
      "cell_type": "code",
      "source": [
        "df['src'] = df['src'].str.split('.').str[-1]\n",
        "df['dst'] = df['dst'].str.split('.').str[-1]\n",
        "\n",
        "protocol_mapping = {'TCP': -1, 'UDP': 0, 'ICMP': 1}\n",
        "df['Protocol'] = df['Protocol'].replace(protocol_mapping)"
      ],
      "metadata": {
        "id": "dbUR5atZ8-Wh"
      },
      "execution_count": 67,
      "outputs": []
    },
    {
      "cell_type": "code",
      "source": [
        "df.head()"
      ],
      "metadata": {
        "colab": {
          "base_uri": "https://localhost:8080/",
          "height": 256
        },
        "id": "FrMZRws0-D6U",
        "outputId": "d83acea6-a540-4293-96dd-ef08c0296d27"
      },
      "execution_count": 68,
      "outputs": [
        {
          "output_type": "execute_result",
          "data": {
            "text/plain": [
              "         dt  switch src dst  pktcount  bytecount       dur  dur_nsec  \\\n",
              "0 -0.542890       1   1   8  0.174242   0.328245 -0.781249  0.919175   \n",
              "1 -0.527862       1   1   8  0.486123   0.915781 -0.146367  0.984157   \n",
              "2 -0.542890       1   2   8  0.347427   0.654498 -0.428537  1.020258   \n",
              "3 -0.542890       1   2   8  0.347427   0.654498 -0.428537  1.020258   \n",
              "4 -0.542890       1   2   8  0.347427   0.654498 -0.428537  1.020258   \n",
              "\n",
              "    tot_dur  flows  ...  pktrate  Pairflow  Protocol  port_no  tx_bytes  \\\n",
              "0 -0.779412      3  ...  0.96733         0         0        3  0.333532   \n",
              "1 -0.144270      2  ...  0.96733         0         0        4 -0.613732   \n",
              "2 -0.426555      3  ...  0.96733         0         0        1 -0.613733   \n",
              "3 -0.426555      3  ...  0.96733         0         0        2 -0.613733   \n",
              "4 -0.426555      3  ...  0.96733         0         0        3 -0.613735   \n",
              "\n",
              "   rx_bytes   tx_kbps  rx_kbps  tot_kbps  label  \n",
              "0 -0.701328 -0.412179      0.0       0.0      0  \n",
              "1 -0.701331 -0.412179      0.0       0.0      0  \n",
              "2 -0.701348 -0.412179      0.0       0.0      0  \n",
              "3 -0.701346 -0.412179      0.0       0.0      0  \n",
              "4 -0.701330 -0.412179      0.0       0.0      0  \n",
              "\n",
              "[5 rows x 23 columns]"
            ],
            "text/html": [
              "\n",
              "  <div id=\"df-c0cffb5f-ff27-4122-9d0e-5a6e4646acdd\" class=\"colab-df-container\">\n",
              "    <div>\n",
              "<style scoped>\n",
              "    .dataframe tbody tr th:only-of-type {\n",
              "        vertical-align: middle;\n",
              "    }\n",
              "\n",
              "    .dataframe tbody tr th {\n",
              "        vertical-align: top;\n",
              "    }\n",
              "\n",
              "    .dataframe thead th {\n",
              "        text-align: right;\n",
              "    }\n",
              "</style>\n",
              "<table border=\"1\" class=\"dataframe\">\n",
              "  <thead>\n",
              "    <tr style=\"text-align: right;\">\n",
              "      <th></th>\n",
              "      <th>dt</th>\n",
              "      <th>switch</th>\n",
              "      <th>src</th>\n",
              "      <th>dst</th>\n",
              "      <th>pktcount</th>\n",
              "      <th>bytecount</th>\n",
              "      <th>dur</th>\n",
              "      <th>dur_nsec</th>\n",
              "      <th>tot_dur</th>\n",
              "      <th>flows</th>\n",
              "      <th>...</th>\n",
              "      <th>pktrate</th>\n",
              "      <th>Pairflow</th>\n",
              "      <th>Protocol</th>\n",
              "      <th>port_no</th>\n",
              "      <th>tx_bytes</th>\n",
              "      <th>rx_bytes</th>\n",
              "      <th>tx_kbps</th>\n",
              "      <th>rx_kbps</th>\n",
              "      <th>tot_kbps</th>\n",
              "      <th>label</th>\n",
              "    </tr>\n",
              "  </thead>\n",
              "  <tbody>\n",
              "    <tr>\n",
              "      <th>0</th>\n",
              "      <td>-0.542890</td>\n",
              "      <td>1</td>\n",
              "      <td>1</td>\n",
              "      <td>8</td>\n",
              "      <td>0.174242</td>\n",
              "      <td>0.328245</td>\n",
              "      <td>-0.781249</td>\n",
              "      <td>0.919175</td>\n",
              "      <td>-0.779412</td>\n",
              "      <td>3</td>\n",
              "      <td>...</td>\n",
              "      <td>0.96733</td>\n",
              "      <td>0</td>\n",
              "      <td>0</td>\n",
              "      <td>3</td>\n",
              "      <td>0.333532</td>\n",
              "      <td>-0.701328</td>\n",
              "      <td>-0.412179</td>\n",
              "      <td>0.0</td>\n",
              "      <td>0.0</td>\n",
              "      <td>0</td>\n",
              "    </tr>\n",
              "    <tr>\n",
              "      <th>1</th>\n",
              "      <td>-0.527862</td>\n",
              "      <td>1</td>\n",
              "      <td>1</td>\n",
              "      <td>8</td>\n",
              "      <td>0.486123</td>\n",
              "      <td>0.915781</td>\n",
              "      <td>-0.146367</td>\n",
              "      <td>0.984157</td>\n",
              "      <td>-0.144270</td>\n",
              "      <td>2</td>\n",
              "      <td>...</td>\n",
              "      <td>0.96733</td>\n",
              "      <td>0</td>\n",
              "      <td>0</td>\n",
              "      <td>4</td>\n",
              "      <td>-0.613732</td>\n",
              "      <td>-0.701331</td>\n",
              "      <td>-0.412179</td>\n",
              "      <td>0.0</td>\n",
              "      <td>0.0</td>\n",
              "      <td>0</td>\n",
              "    </tr>\n",
              "    <tr>\n",
              "      <th>2</th>\n",
              "      <td>-0.542890</td>\n",
              "      <td>1</td>\n",
              "      <td>2</td>\n",
              "      <td>8</td>\n",
              "      <td>0.347427</td>\n",
              "      <td>0.654498</td>\n",
              "      <td>-0.428537</td>\n",
              "      <td>1.020258</td>\n",
              "      <td>-0.426555</td>\n",
              "      <td>3</td>\n",
              "      <td>...</td>\n",
              "      <td>0.96733</td>\n",
              "      <td>0</td>\n",
              "      <td>0</td>\n",
              "      <td>1</td>\n",
              "      <td>-0.613733</td>\n",
              "      <td>-0.701348</td>\n",
              "      <td>-0.412179</td>\n",
              "      <td>0.0</td>\n",
              "      <td>0.0</td>\n",
              "      <td>0</td>\n",
              "    </tr>\n",
              "    <tr>\n",
              "      <th>3</th>\n",
              "      <td>-0.542890</td>\n",
              "      <td>1</td>\n",
              "      <td>2</td>\n",
              "      <td>8</td>\n",
              "      <td>0.347427</td>\n",
              "      <td>0.654498</td>\n",
              "      <td>-0.428537</td>\n",
              "      <td>1.020258</td>\n",
              "      <td>-0.426555</td>\n",
              "      <td>3</td>\n",
              "      <td>...</td>\n",
              "      <td>0.96733</td>\n",
              "      <td>0</td>\n",
              "      <td>0</td>\n",
              "      <td>2</td>\n",
              "      <td>-0.613733</td>\n",
              "      <td>-0.701346</td>\n",
              "      <td>-0.412179</td>\n",
              "      <td>0.0</td>\n",
              "      <td>0.0</td>\n",
              "      <td>0</td>\n",
              "    </tr>\n",
              "    <tr>\n",
              "      <th>4</th>\n",
              "      <td>-0.542890</td>\n",
              "      <td>1</td>\n",
              "      <td>2</td>\n",
              "      <td>8</td>\n",
              "      <td>0.347427</td>\n",
              "      <td>0.654498</td>\n",
              "      <td>-0.428537</td>\n",
              "      <td>1.020258</td>\n",
              "      <td>-0.426555</td>\n",
              "      <td>3</td>\n",
              "      <td>...</td>\n",
              "      <td>0.96733</td>\n",
              "      <td>0</td>\n",
              "      <td>0</td>\n",
              "      <td>3</td>\n",
              "      <td>-0.613735</td>\n",
              "      <td>-0.701330</td>\n",
              "      <td>-0.412179</td>\n",
              "      <td>0.0</td>\n",
              "      <td>0.0</td>\n",
              "      <td>0</td>\n",
              "    </tr>\n",
              "  </tbody>\n",
              "</table>\n",
              "<p>5 rows × 23 columns</p>\n",
              "</div>\n",
              "    <div class=\"colab-df-buttons\">\n",
              "\n",
              "  <div class=\"colab-df-container\">\n",
              "    <button class=\"colab-df-convert\" onclick=\"convertToInteractive('df-c0cffb5f-ff27-4122-9d0e-5a6e4646acdd')\"\n",
              "            title=\"Convert this dataframe to an interactive table.\"\n",
              "            style=\"display:none;\">\n",
              "\n",
              "  <svg xmlns=\"http://www.w3.org/2000/svg\" height=\"24px\" viewBox=\"0 -960 960 960\">\n",
              "    <path d=\"M120-120v-720h720v720H120Zm60-500h600v-160H180v160Zm220 220h160v-160H400v160Zm0 220h160v-160H400v160ZM180-400h160v-160H180v160Zm440 0h160v-160H620v160ZM180-180h160v-160H180v160Zm440 0h160v-160H620v160Z\"/>\n",
              "  </svg>\n",
              "    </button>\n",
              "\n",
              "  <style>\n",
              "    .colab-df-container {\n",
              "      display:flex;\n",
              "      gap: 12px;\n",
              "    }\n",
              "\n",
              "    .colab-df-convert {\n",
              "      background-color: #E8F0FE;\n",
              "      border: none;\n",
              "      border-radius: 50%;\n",
              "      cursor: pointer;\n",
              "      display: none;\n",
              "      fill: #1967D2;\n",
              "      height: 32px;\n",
              "      padding: 0 0 0 0;\n",
              "      width: 32px;\n",
              "    }\n",
              "\n",
              "    .colab-df-convert:hover {\n",
              "      background-color: #E2EBFA;\n",
              "      box-shadow: 0px 1px 2px rgba(60, 64, 67, 0.3), 0px 1px 3px 1px rgba(60, 64, 67, 0.15);\n",
              "      fill: #174EA6;\n",
              "    }\n",
              "\n",
              "    .colab-df-buttons div {\n",
              "      margin-bottom: 4px;\n",
              "    }\n",
              "\n",
              "    [theme=dark] .colab-df-convert {\n",
              "      background-color: #3B4455;\n",
              "      fill: #D2E3FC;\n",
              "    }\n",
              "\n",
              "    [theme=dark] .colab-df-convert:hover {\n",
              "      background-color: #434B5C;\n",
              "      box-shadow: 0px 1px 3px 1px rgba(0, 0, 0, 0.15);\n",
              "      filter: drop-shadow(0px 1px 2px rgba(0, 0, 0, 0.3));\n",
              "      fill: #FFFFFF;\n",
              "    }\n",
              "  </style>\n",
              "\n",
              "    <script>\n",
              "      const buttonEl =\n",
              "        document.querySelector('#df-c0cffb5f-ff27-4122-9d0e-5a6e4646acdd button.colab-df-convert');\n",
              "      buttonEl.style.display =\n",
              "        google.colab.kernel.accessAllowed ? 'block' : 'none';\n",
              "\n",
              "      async function convertToInteractive(key) {\n",
              "        const element = document.querySelector('#df-c0cffb5f-ff27-4122-9d0e-5a6e4646acdd');\n",
              "        const dataTable =\n",
              "          await google.colab.kernel.invokeFunction('convertToInteractive',\n",
              "                                                    [key], {});\n",
              "        if (!dataTable) return;\n",
              "\n",
              "        const docLinkHtml = 'Like what you see? Visit the ' +\n",
              "          '<a target=\"_blank\" href=https://colab.research.google.com/notebooks/data_table.ipynb>data table notebook</a>'\n",
              "          + ' to learn more about interactive tables.';\n",
              "        element.innerHTML = '';\n",
              "        dataTable['output_type'] = 'display_data';\n",
              "        await google.colab.output.renderOutput(dataTable, element);\n",
              "        const docLink = document.createElement('div');\n",
              "        docLink.innerHTML = docLinkHtml;\n",
              "        element.appendChild(docLink);\n",
              "      }\n",
              "    </script>\n",
              "  </div>\n",
              "\n",
              "\n",
              "<div id=\"df-c380c3f2-a679-40b2-99f9-65e8ede02ee7\">\n",
              "  <button class=\"colab-df-quickchart\" onclick=\"quickchart('df-c380c3f2-a679-40b2-99f9-65e8ede02ee7')\"\n",
              "            title=\"Suggest charts\"\n",
              "            style=\"display:none;\">\n",
              "\n",
              "<svg xmlns=\"http://www.w3.org/2000/svg\" height=\"24px\"viewBox=\"0 0 24 24\"\n",
              "     width=\"24px\">\n",
              "    <g>\n",
              "        <path d=\"M19 3H5c-1.1 0-2 .9-2 2v14c0 1.1.9 2 2 2h14c1.1 0 2-.9 2-2V5c0-1.1-.9-2-2-2zM9 17H7v-7h2v7zm4 0h-2V7h2v10zm4 0h-2v-4h2v4z\"/>\n",
              "    </g>\n",
              "</svg>\n",
              "  </button>\n",
              "\n",
              "<style>\n",
              "  .colab-df-quickchart {\n",
              "      --bg-color: #E8F0FE;\n",
              "      --fill-color: #1967D2;\n",
              "      --hover-bg-color: #E2EBFA;\n",
              "      --hover-fill-color: #174EA6;\n",
              "      --disabled-fill-color: #AAA;\n",
              "      --disabled-bg-color: #DDD;\n",
              "  }\n",
              "\n",
              "  [theme=dark] .colab-df-quickchart {\n",
              "      --bg-color: #3B4455;\n",
              "      --fill-color: #D2E3FC;\n",
              "      --hover-bg-color: #434B5C;\n",
              "      --hover-fill-color: #FFFFFF;\n",
              "      --disabled-bg-color: #3B4455;\n",
              "      --disabled-fill-color: #666;\n",
              "  }\n",
              "\n",
              "  .colab-df-quickchart {\n",
              "    background-color: var(--bg-color);\n",
              "    border: none;\n",
              "    border-radius: 50%;\n",
              "    cursor: pointer;\n",
              "    display: none;\n",
              "    fill: var(--fill-color);\n",
              "    height: 32px;\n",
              "    padding: 0;\n",
              "    width: 32px;\n",
              "  }\n",
              "\n",
              "  .colab-df-quickchart:hover {\n",
              "    background-color: var(--hover-bg-color);\n",
              "    box-shadow: 0 1px 2px rgba(60, 64, 67, 0.3), 0 1px 3px 1px rgba(60, 64, 67, 0.15);\n",
              "    fill: var(--button-hover-fill-color);\n",
              "  }\n",
              "\n",
              "  .colab-df-quickchart-complete:disabled,\n",
              "  .colab-df-quickchart-complete:disabled:hover {\n",
              "    background-color: var(--disabled-bg-color);\n",
              "    fill: var(--disabled-fill-color);\n",
              "    box-shadow: none;\n",
              "  }\n",
              "\n",
              "  .colab-df-spinner {\n",
              "    border: 2px solid var(--fill-color);\n",
              "    border-color: transparent;\n",
              "    border-bottom-color: var(--fill-color);\n",
              "    animation:\n",
              "      spin 1s steps(1) infinite;\n",
              "  }\n",
              "\n",
              "  @keyframes spin {\n",
              "    0% {\n",
              "      border-color: transparent;\n",
              "      border-bottom-color: var(--fill-color);\n",
              "      border-left-color: var(--fill-color);\n",
              "    }\n",
              "    20% {\n",
              "      border-color: transparent;\n",
              "      border-left-color: var(--fill-color);\n",
              "      border-top-color: var(--fill-color);\n",
              "    }\n",
              "    30% {\n",
              "      border-color: transparent;\n",
              "      border-left-color: var(--fill-color);\n",
              "      border-top-color: var(--fill-color);\n",
              "      border-right-color: var(--fill-color);\n",
              "    }\n",
              "    40% {\n",
              "      border-color: transparent;\n",
              "      border-right-color: var(--fill-color);\n",
              "      border-top-color: var(--fill-color);\n",
              "    }\n",
              "    60% {\n",
              "      border-color: transparent;\n",
              "      border-right-color: var(--fill-color);\n",
              "    }\n",
              "    80% {\n",
              "      border-color: transparent;\n",
              "      border-right-color: var(--fill-color);\n",
              "      border-bottom-color: var(--fill-color);\n",
              "    }\n",
              "    90% {\n",
              "      border-color: transparent;\n",
              "      border-bottom-color: var(--fill-color);\n",
              "    }\n",
              "  }\n",
              "</style>\n",
              "\n",
              "  <script>\n",
              "    async function quickchart(key) {\n",
              "      const quickchartButtonEl =\n",
              "        document.querySelector('#' + key + ' button');\n",
              "      quickchartButtonEl.disabled = true;  // To prevent multiple clicks.\n",
              "      quickchartButtonEl.classList.add('colab-df-spinner');\n",
              "      try {\n",
              "        const charts = await google.colab.kernel.invokeFunction(\n",
              "            'suggestCharts', [key], {});\n",
              "      } catch (error) {\n",
              "        console.error('Error during call to suggestCharts:', error);\n",
              "      }\n",
              "      quickchartButtonEl.classList.remove('colab-df-spinner');\n",
              "      quickchartButtonEl.classList.add('colab-df-quickchart-complete');\n",
              "    }\n",
              "    (() => {\n",
              "      let quickchartButtonEl =\n",
              "        document.querySelector('#df-c380c3f2-a679-40b2-99f9-65e8ede02ee7 button');\n",
              "      quickchartButtonEl.style.display =\n",
              "        google.colab.kernel.accessAllowed ? 'block' : 'none';\n",
              "    })();\n",
              "  </script>\n",
              "</div>\n",
              "\n",
              "    </div>\n",
              "  </div>\n"
            ],
            "application/vnd.google.colaboratory.intrinsic+json": {
              "type": "dataframe",
              "variable_name": "df"
            }
          },
          "metadata": {},
          "execution_count": 68
        }
      ]
    },
    {
      "cell_type": "code",
      "source": [
        "from sklearn.preprocessing import StandardScaler, MinMaxScaler\n",
        "from scipy.stats import skew, kurtosis\n",
        "\n",
        "columns_to_normalize = ['dt', 'pktcount', 'bytecount', 'dur', 'dur_nsec', 'tot_dur',\n",
        "                         'packetins', 'pktperflow', 'byteperflow', 'pktrate',\n",
        "                         'tx_bytes', 'rx_bytes', 'tx_kbps', 'rx_kbps', 'tot_kbps']\n",
        "\n",
        "for column in df.columns:\n",
        "    if column in columns_to_normalize:\n",
        "        skewness = skew(df[column])\n",
        "        kurt = kurtosis(df[column])\n",
        "\n",
        "        if abs(skewness) > 1 or abs(kurt) > 1:\n",
        "            # Apply Standardization for skewed or kurtotic data\n",
        "            scaler = StandardScaler()\n",
        "            df[column] = scaler.fit_transform(df[[column]])\n",
        "            print(f\"Applied Standardization to column: {column}\")\n",
        "        else:\n",
        "            # Apply Min-Max Scaling for approximately normally distributed data\n",
        "            scaler = MinMaxScaler()\n",
        "            df[column] = scaler.fit_transform(df[[column]])\n",
        "            print(f\"Applied Min-Max Scaling to column: {column}\")\n",
        "\n",
        "# Display the normalized DataFrame\n",
        "print(df)"
      ],
      "metadata": {
        "colab": {
          "base_uri": "https://localhost:8080/"
        },
        "id": "Ok7fGBukA5sw",
        "outputId": "a8be62e9-c165-4eaa-8cc6-0b4da49bc947"
      },
      "execution_count": 76,
      "outputs": [
        {
          "output_type": "stream",
          "name": "stdout",
          "text": [
            "Applied Standardization to column: dt\n",
            "Applied Min-Max Scaling to column: pktcount\n",
            "Applied Min-Max Scaling to column: bytecount\n",
            "Applied Standardization to column: dur\n",
            "Applied Standardization to column: dur_nsec\n",
            "Applied Standardization to column: tot_dur\n",
            "Applied Standardization to column: packetins\n",
            "Applied Standardization to column: pktperflow\n",
            "Applied Standardization to column: byteperflow\n",
            "Applied Standardization to column: pktrate\n",
            "Applied Standardization to column: tx_bytes\n",
            "Applied Standardization to column: rx_bytes\n",
            "Applied Standardization to column: tx_kbps\n",
            "Applied Min-Max Scaling to column: rx_kbps\n",
            "Applied Min-Max Scaling to column: tot_kbps\n",
            "              dt  switch src dst  pktcount  bytecount       dur  dur_nsec  \\\n",
            "0      -0.542890       1   1   8  0.174242   0.328245 -0.781249  0.919175   \n",
            "1      -0.527862       1   1   8  0.486123   0.915781 -0.146367  0.984157   \n",
            "2      -0.542890       1   2   8  0.347427   0.654498 -0.428537  1.020258   \n",
            "3      -0.542890       1   2   8  0.347427   0.654498 -0.428537  1.020258   \n",
            "4      -0.542890       1   2   8  0.347427   0.654498 -0.428537  1.020258   \n",
            "...          ...     ...  ..  ..       ...        ...       ...       ...   \n",
            "104340 -1.057435       3   5   7  0.000304   0.000053 -0.848265  1.374048   \n",
            "104341 -1.057435       3   5   7  0.000304   0.000053 -0.848265  1.374048   \n",
            "104342 -1.057435       3  11   5  0.000119   0.000021 -1.024621  1.240474   \n",
            "104343 -1.057435       3  11   5  0.000119   0.000021 -1.024621  1.240474   \n",
            "104344 -1.057435       3  11   5  0.000119   0.000021 -1.024621  1.240474   \n",
            "\n",
            "         tot_dur  flows  ...   pktrate  Pairflow  Protocol  port_no  tx_bytes  \\\n",
            "0      -0.779412      3  ...  0.967330         0         0        3  0.333532   \n",
            "1      -0.144270      2  ...  0.967330         0         0        4 -0.613732   \n",
            "2      -0.426555      3  ...  0.967330         0         0        1 -0.613733   \n",
            "3      -0.426555      3  ...  0.967330         0         0        2 -0.613733   \n",
            "4      -0.426555      3  ...  0.967330         0         0        3 -0.613735   \n",
            "...          ...    ...  ...       ...       ...       ...      ...       ...   \n",
            "104340 -0.847012      5  ... -0.859661         0         1        1 -0.613657   \n",
            "104341 -0.847012      5  ... -0.859661         0         1        3 -0.613658   \n",
            "104342 -1.023570      5  ... -0.855610         0         1        2 -0.613735   \n",
            "104343 -1.023570      5  ... -0.855610         0         1        1 -0.613657   \n",
            "104344 -1.023570      5  ... -0.855610         0         1        3 -0.613658   \n",
            "\n",
            "        rx_bytes   tx_kbps  rx_kbps  tot_kbps  label  \n",
            "0      -0.701328 -0.412179  0.00000  0.000000      0  \n",
            "1      -0.701331 -0.412179  0.00000  0.000000      0  \n",
            "2      -0.701348 -0.412179  0.00000  0.000000      0  \n",
            "3      -0.701346 -0.412179  0.00000  0.000000      0  \n",
            "4      -0.701330 -0.412179  0.00000  0.000000      0  \n",
            "...          ...       ...      ...       ...    ...  \n",
            "104340 -0.701262 -0.411767  0.00006  0.000097      0  \n",
            "104341 -0.701247 -0.411767  0.00006  0.000097      0  \n",
            "104342 -0.701329 -0.412179  0.00000  0.000000      0  \n",
            "104343 -0.701262 -0.411767  0.00006  0.000097      0  \n",
            "104344 -0.701247 -0.411767  0.00006  0.000097      0  \n",
            "\n",
            "[104345 rows x 23 columns]\n"
          ]
        }
      ]
    },
    {
      "cell_type": "markdown",
      "source": [
        "# ONE-HOT ENCODING"
      ],
      "metadata": {
        "id": "grH-15y04Z_K"
      }
    },
    {
      "cell_type": "code",
      "source": [
        "df_one_hot = pd.get_dummies(df, columns=['switch', 'dst', 'src', 'flows', 'Protocol', 'port_no'], prefix=['switch', 'dst', 'src', 'flows', 'Protocol', 'port_no'])"
      ],
      "metadata": {
        "id": "9P8B7dF4bNZl"
      },
      "execution_count": 25,
      "outputs": []
    },
    {
      "cell_type": "markdown",
      "source": [
        "# IMPUTATION WITH ONE-HOT ENCODING"
      ],
      "metadata": {
        "id": "SNmST8Fsn1Kh"
      }
    },
    {
      "cell_type": "code",
      "source": [
        "import pandas as pd\n",
        "\n",
        "# Get count of null values in each column\n",
        "null_count = df_one_hot.isnull().sum()\n",
        "\n",
        "# Display the count of null values\n",
        "for index,value in enumerate(null_count):\n",
        "  if (value!=0):\n",
        "    print(list(df_one_hot.columns)[index])\n"
      ],
      "metadata": {
        "colab": {
          "base_uri": "https://localhost:8080/"
        },
        "id": "RbyFazqLk7iv",
        "outputId": "9230a0e0-35bd-4423-e50c-9d34e5b58010"
      },
      "execution_count": 36,
      "outputs": [
        {
          "output_type": "stream",
          "name": "stdout",
          "text": [
            "rx_kbps\n",
            "tot_kbps\n"
          ]
        }
      ]
    },
    {
      "cell_type": "code",
      "source": [
        "import pandas as pd\n",
        "from sklearn.impute import KNNImputer\n",
        "from sklearn.impute import SimpleImputer\n",
        "\n",
        "# Assuming df_one_hot is your DataFrame\n",
        "# df_one_hot = pd.read_csv('your_file.csv')\n",
        "\n",
        "# Selecting columns with missing values\n",
        "columns_with_missing = ['rx_kbps', 'tot_kbps']\n",
        "df_missing = df_one_hot[columns_with_missing]\n",
        "\n",
        "# Hot-Deck (HD) Imputation\n",
        "# Filling missing values with the next available observation\n",
        "df_hd = df_missing.fillna(method='bfill')\n",
        "\n",
        "# Expectation Maximization (EM) Imputation\n",
        "# Using SimpleImputer with EM method\n",
        "em_imputer = SimpleImputer(strategy='constant', fill_value=None)  # EM is the default strategy\n",
        "df_em = pd.DataFrame(em_imputer.fit_transform(df_missing), columns=df_missing.columns)\n",
        "\n",
        "# K-Nearest Neighbor (KNN) Imputation\n",
        "knn_imputer = KNNImputer(n_neighbors=5)  # Using 5 nearest neighbors\n",
        "df_knn = pd.DataFrame(knn_imputer.fit_transform(df_missing), columns=df_missing.columns)\n",
        "\n",
        "# Comparing the imputed values\n",
        "print(\"Hot-Deck Imputation:\")\n",
        "print(df_hd.head())\n",
        "print(\"\\nExpectation Maximization (EM) Imputation:\")\n",
        "print(df_em.head())\n",
        "print(\"\\nK-Nearest Neighbor (KNN) Imputation:\")\n",
        "print(df_knn.head())\n"
      ],
      "metadata": {
        "colab": {
          "base_uri": "https://localhost:8080/"
        },
        "id": "JeIkUtJinWct",
        "outputId": "75e6f8a6-3bee-40c8-86b0-285b59208c94"
      },
      "execution_count": 38,
      "outputs": [
        {
          "output_type": "stream",
          "name": "stdout",
          "text": [
            "Hot-Deck Imputation:\n",
            "   rx_kbps  tot_kbps\n",
            "0      0.0       0.0\n",
            "1      0.0       0.0\n",
            "2      0.0       0.0\n",
            "3      0.0       0.0\n",
            "4      0.0       0.0\n",
            "\n",
            "Expectation Maximization (EM) Imputation:\n",
            "   rx_kbps  tot_kbps\n",
            "0      0.0       0.0\n",
            "1      0.0       0.0\n",
            "2      0.0       0.0\n",
            "3      0.0       0.0\n",
            "4      0.0       0.0\n",
            "\n",
            "K-Nearest Neighbor (KNN) Imputation:\n",
            "   rx_kbps  tot_kbps\n",
            "0      0.0       0.0\n",
            "1      0.0       0.0\n",
            "2      0.0       0.0\n",
            "3      0.0       0.0\n",
            "4      0.0       0.0\n"
          ]
        }
      ]
    },
    {
      "cell_type": "code",
      "source": [
        "# Replace missing values in df_one_hot with imputed values\n",
        "df_one_hot_hd = df_one_hot.copy()\n",
        "df_one_hot_em = df_one_hot.copy()\n",
        "df_one_hot_knn = df_one_hot.copy()\n",
        "\n",
        "df_one_hot_hd[columns_with_missing] = df_hd\n",
        "df_one_hot_em[columns_with_missing] = df_em\n",
        "df_one_hot_knn[columns_with_missing] = df_knn\n"
      ],
      "metadata": {
        "id": "bMeaOA85nQb5"
      },
      "execution_count": 39,
      "outputs": []
    },
    {
      "cell_type": "code",
      "source": [
        "from sklearn.model_selection import train_test_split\n",
        "\n",
        "# Define features (X) and target (y)\n",
        "X_hd = df_one_hot_hd.drop('label', axis=1)\n",
        "y_hd = df_one_hot_hd['label']\n",
        "\n",
        "X_em = df_one_hot_em.drop('label', axis=1)\n",
        "y_em = df_one_hot_em['label']\n",
        "\n",
        "X_knn = df_one_hot_knn.drop('label', axis=1)\n",
        "y_knn = df_one_hot_knn['label']\n",
        "\n",
        "# Split the data\n",
        "X_train_hd, X_test_hd, y_train_hd, y_test_hd = train_test_split(X_hd, y_hd, test_size=0.2, random_state=42)\n",
        "X_train_em, X_test_em, y_train_em, y_test_em = train_test_split(X_em, y_em, test_size=0.2, random_state=42)\n",
        "X_train_knn, X_test_knn, y_train_knn, y_test_knn = train_test_split(X_knn, y_knn, test_size=0.2, random_state=42)\n"
      ],
      "metadata": {
        "id": "kB2a2q-1niDe"
      },
      "execution_count": 41,
      "outputs": []
    },
    {
      "cell_type": "code",
      "source": [
        "from sklearn.ensemble import RandomForestClassifier\n",
        "from sklearn.metrics import accuracy_score\n",
        "\n",
        "# Initialize RandomForestClassifier\n",
        "clf = RandomForestClassifier(random_state=42)\n",
        "\n",
        "# Train the model with Hot-Deck imputed data\n",
        "clf.fit(X_train_hd, y_train_hd)\n",
        "y_pred_hd = clf.predict(X_test_hd)\n",
        "accuracy_hd = accuracy_score(y_test_hd, y_pred_hd)\n",
        "\n",
        "# Train the model with Expectation Maximization (EM) imputed data\n",
        "clf.fit(X_train_em, y_train_em)\n",
        "y_pred_em = clf.predict(X_test_em)\n",
        "accuracy_em = accuracy_score(y_test_em, y_pred_em)\n",
        "\n",
        "# Train the model with K-Nearest Neighbor (KNN) imputed data\n",
        "clf.fit(X_train_knn, y_train_knn)\n",
        "y_pred_knn = clf.predict(X_test_knn)\n",
        "accuracy_knn = accuracy_score(y_test_knn, y_pred_knn)\n",
        "\n",
        "print(f\"Accuracy with Hot-Deck imputation: {accuracy_hd:.4f}\")\n",
        "print(f\"Accuracy with Expectation Maximization (EM) imputation: {accuracy_em:.4f}\")\n",
        "print(f\"Accuracy with K-Nearest Neighbor (KNN) imputation: {accuracy_knn:.4f}\")\n"
      ],
      "metadata": {
        "colab": {
          "base_uri": "https://localhost:8080/"
        },
        "id": "y0aLmCAVnlJJ",
        "outputId": "49a67ebc-b987-4765-f040-afaf5b255b63"
      },
      "execution_count": 42,
      "outputs": [
        {
          "output_type": "stream",
          "name": "stdout",
          "text": [
            "Accuracy with Hot-Deck imputation: 0.9997\n",
            "Accuracy with Expectation Maximization (EM) imputation: 0.9998\n",
            "Accuracy with K-Nearest Neighbor (KNN) imputation: 0.9999\n"
          ]
        }
      ]
    },
    {
      "cell_type": "code",
      "source": [
        "# Compare the accuracies\n",
        "if accuracy_hd > accuracy_em and accuracy_hd > accuracy_knn:\n",
        "    print(\"Hot-Deck imputation performs the best.\")\n",
        "elif accuracy_em > accuracy_hd and accuracy_em > accuracy_knn:\n",
        "    print(\"Expectation Maximization (EM) imputation performs the best.\")\n",
        "else:\n",
        "    print(\"K-Nearest Neighbor (KNN) imputation performs the best.\")\n"
      ],
      "metadata": {
        "colab": {
          "base_uri": "https://localhost:8080/"
        },
        "id": "ubZQelc-nnpG",
        "outputId": "1f164b4e-3857-4f4f-efba-bfe2c93e1cf8"
      },
      "execution_count": 43,
      "outputs": [
        {
          "output_type": "stream",
          "name": "stdout",
          "text": [
            "K-Nearest Neighbor (KNN) imputation performs the best.\n"
          ]
        }
      ]
    },
    {
      "cell_type": "markdown",
      "source": [
        "# FEATURE SELECTION AFTER ONE-HOT ENCODING"
      ],
      "metadata": {
        "id": "zcrcdIGKoUcs"
      }
    },
    {
      "cell_type": "code",
      "source": [
        "from sklearn.ensemble import RandomForestClassifier\n",
        "from sklearn.feature_selection import RFECV\n",
        "from sklearn.model_selection import train_test_split\n",
        "\n",
        "# Assuming df_one_hot is your DataFrame\n",
        "# df_one_hot = pd.read_csv('your_file.csv')\n",
        "\n",
        "# Splitting the data into features (X) and target (y)\n",
        "X = df_one_hot_knn.drop('label', axis=1)  # Features\n",
        "y = df_one_hot_knn['label']  # Target\n",
        "\n",
        "# Initialize Random Forest Classifier\n",
        "rf_classifier = RandomForestClassifier(random_state=42)\n",
        "\n",
        "# Initialize RFECV\n",
        "rfecv = RFECV(estimator=rf_classifier, step=1, cv=5, scoring='accuracy', n_jobs=-1)\n",
        "\n",
        "# Fit RFECV\n",
        "rfecv.fit(X, y)"
      ],
      "metadata": {
        "id": "6z23rTebkZse"
      },
      "execution_count": null,
      "outputs": []
    },
    {
      "cell_type": "code",
      "source": [
        "# Print the optimal number of features\n",
        "print(f\"Optimal number of features: {rfecv.n_features_}\")\n",
        "\n",
        "# Get the selected features\n",
        "selected_features = X.columns[rfecv.support_].tolist()\n",
        "print(\"Selected features:\")\n",
        "print(selected_features)\n"
      ],
      "metadata": {
        "colab": {
          "base_uri": "https://localhost:8080/"
        },
        "id": "cvL1Vdm620Xd",
        "outputId": "47e06e95-0c3c-4cda-acd5-e77b478ab210"
      },
      "execution_count": 45,
      "outputs": [
        {
          "output_type": "stream",
          "name": "stdout",
          "text": [
            "Optimal number of features: 6\n",
            "Selected features:\n",
            "['pktcount', 'bytecount', 'packetins', 'pktperflow', 'byteperflow', 'pktrate']\n"
          ]
        }
      ]
    },
    {
      "cell_type": "code",
      "source": [
        "import matplotlib.pyplot as plt\n",
        "\n",
        "# Plot number of features vs. cross-validation scores\n",
        "plt.figure(figsize=(10, 6))\n",
        "plt.xlabel(\"Number of features selected\")\n",
        "plt.ylabel(\"Cross validation score (accuracy)\")\n",
        "plt.plot(range(1, len(rfecv.cv_results_['mean_test_score']) + 1), rfecv.cv_results_['mean_test_score'])\n",
        "plt.show()"
      ],
      "metadata": {
        "colab": {
          "base_uri": "https://localhost:8080/",
          "height": 542
        },
        "id": "RbNgwjhD2ywY",
        "outputId": "e678d296-579e-41e8-abca-a9df2beb86c5"
      },
      "execution_count": 48,
      "outputs": [
        {
          "output_type": "display_data",
          "data": {
            "text/plain": [
              "<Figure size 1000x600 with 1 Axes>"
            ],
            "image/png": "[encoded data removed]"
          },
          "metadata": {}
        }
      ]
    },
    {
      "cell_type": "markdown",
      "source": [
        "# IMPUTATION WITHOUT ONE-HOT ENCODING"
      ],
      "metadata": {
        "id": "uHukAedo37Ba"
      }
    },
    {
      "cell_type": "code",
      "source": [
        "import pandas as pd\n",
        "\n",
        "# Assuming df_one_hot is your DataFrame\n",
        "# df_one_hot = pd.read_csv('your_file.csv')\n",
        "\n",
        "# Get count of null values in each column\n",
        "null_count = df.isnull().sum()\n",
        "\n",
        "# Display the count of null values\n",
        "for index,value in enumerate(null_count):\n",
        "  if (value!=0):\n",
        "    print(list(df.columns)[index])\n"
      ],
      "metadata": {
        "colab": {
          "base_uri": "https://localhost:8080/"
        },
        "outputId": "f42de58c-40ce-400e-8deb-9984cf6090fa",
        "id": "-ZfOmzLS7LKI"
      },
      "execution_count": 78,
      "outputs": [
        {
          "output_type": "stream",
          "name": "stdout",
          "text": [
            "rx_kbps\n",
            "tot_kbps\n"
          ]
        }
      ]
    },
    {
      "cell_type": "code",
      "source": [
        "import pandas as pd\n",
        "from sklearn.impute import KNNImputer\n",
        "from sklearn.impute import SimpleImputer\n",
        "\n",
        "# Assuming df is your DataFrame\n",
        "# df_one_hot = pd.read_csv('your_file.csv')\n",
        "\n",
        "# Selecting columns with missing values\n",
        "columns_with_missing = ['rx_kbps', 'tot_kbps']\n",
        "df_missing = df[columns_with_missing]\n",
        "\n",
        "# Hot-Deck (HD) Imputation\n",
        "# Filling missing values with the next available observation\n",
        "df_hd = df_missing.fillna(method='bfill')\n",
        "\n",
        "# Expectation Maximization (EM) Imputation\n",
        "# Using SimpleImputer with EM method\n",
        "em_imputer = SimpleImputer(strategy='constant', fill_value=None)  # EM is the default strategy\n",
        "df_em = pd.DataFrame(em_imputer.fit_transform(df_missing), columns=df_missing.columns)\n",
        "\n",
        "# K-Nearest Neighbor (KNN) Imputation\n",
        "knn_imputer = KNNImputer(n_neighbors=5)  # Using 5 nearest neighbors\n",
        "df_knn = pd.DataFrame(knn_imputer.fit_transform(df_missing), columns=df_missing.columns)\n",
        "\n",
        "# Comparing the imputed values\n",
        "print(\"Hot-Deck Imputation:\")\n",
        "print(df_hd.head())\n",
        "print(\"\\nExpectation Maximization (EM) Imputation:\")\n",
        "print(df_em.head())\n",
        "print(\"\\nK-Nearest Neighbor (KNN) Imputation:\")\n",
        "print(df_knn.head())"
      ],
      "metadata": {
        "colab": {
          "base_uri": "https://localhost:8080/"
        },
        "outputId": "b56849d4-80f7-466d-f341-6b75d826c954",
        "id": "C6GgHzBo7LKJ"
      },
      "execution_count": 79,
      "outputs": [
        {
          "output_type": "stream",
          "name": "stdout",
          "text": [
            "Hot-Deck Imputation:\n",
            "   rx_kbps  tot_kbps\n",
            "0      0.0       0.0\n",
            "1      0.0       0.0\n",
            "2      0.0       0.0\n",
            "3      0.0       0.0\n",
            "4      0.0       0.0\n",
            "\n",
            "Expectation Maximization (EM) Imputation:\n",
            "   rx_kbps  tot_kbps\n",
            "0      0.0       0.0\n",
            "1      0.0       0.0\n",
            "2      0.0       0.0\n",
            "3      0.0       0.0\n",
            "4      0.0       0.0\n",
            "\n",
            "K-Nearest Neighbor (KNN) Imputation:\n",
            "   rx_kbps  tot_kbps\n",
            "0      0.0       0.0\n",
            "1      0.0       0.0\n",
            "2      0.0       0.0\n",
            "3      0.0       0.0\n",
            "4      0.0       0.0\n"
          ]
        }
      ]
    },
    {
      "cell_type": "code",
      "source": [
        "# Replace missing values in df with imputed values\n",
        "df_with_hd = df.copy()\n",
        "df_with_em = df.copy()\n",
        "df_with_knn = df.copy()\n",
        "\n",
        "df_with_hd[columns_with_missing] = df_hd\n",
        "df_with_em[columns_with_missing] = df_em\n",
        "df_with_knn[columns_with_missing] = df_knn"
      ],
      "metadata": {
        "id": "tdBDmcG-7LKK"
      },
      "execution_count": 80,
      "outputs": []
    },
    {
      "cell_type": "code",
      "source": [
        "from sklearn.model_selection import train_test_split\n",
        "\n",
        "# Define features (X) and target (y)\n",
        "X_hd = df_with_hd.drop('label', axis=1)\n",
        "y_hd = df_with_hd['label']\n",
        "\n",
        "X_em = df_with_em.drop('label', axis=1)\n",
        "y_em = df_with_em['label']\n",
        "\n",
        "X_knn = df_with_knn.drop('label', axis=1)\n",
        "y_knn = df_with_knn['label']\n",
        "\n",
        "# Split the data\n",
        "X_train_hd, X_test_hd, y_train_hd, y_test_hd = train_test_split(X_hd, y_hd, test_size=0.2, random_state=42)\n",
        "X_train_em, X_test_em, y_train_em, y_test_em = train_test_split(X_em, y_em, test_size=0.2, random_state=42)\n",
        "X_train_knn, X_test_knn, y_train_knn, y_test_knn = train_test_split(X_knn, y_knn, test_size=0.2, random_state=42)\n"
      ],
      "metadata": {
        "id": "dnEcfIwj7LKK"
      },
      "execution_count": 81,
      "outputs": []
    },
    {
      "cell_type": "code",
      "source": [
        "from sklearn.ensemble import RandomForestClassifier\n",
        "from sklearn.metrics import accuracy_score\n",
        "\n",
        "# Initialize RandomForestClassifier\n",
        "clf = RandomForestClassifier(random_state=42)\n",
        "\n",
        "# Train the model with Hot-Deck imputed data\n",
        "clf.fit(X_train_hd, y_train_hd)\n",
        "y_pred_hd = clf.predict(X_test_hd)\n",
        "accuracy_hd = accuracy_score(y_test_hd, y_pred_hd)\n",
        "\n",
        "# Train the model with Expectation Maximization (EM) imputed data\n",
        "clf.fit(X_train_em, y_train_em)\n",
        "y_pred_em = clf.predict(X_test_em)\n",
        "accuracy_em = accuracy_score(y_test_em, y_pred_em)\n",
        "\n",
        "# Train the model with K-Nearest Neighbor (KNN) imputed data\n",
        "clf.fit(X_train_knn, y_train_knn)\n",
        "y_pred_knn = clf.predict(X_test_knn)\n",
        "accuracy_knn = accuracy_score(y_test_knn, y_pred_knn)\n",
        "\n",
        "print(f\"Accuracy with Hot-Deck imputation: {accuracy_hd:.4f}\")\n",
        "print(f\"Accuracy with Expectation Maximization (EM) imputation: {accuracy_em:.4f}\")\n",
        "print(f\"Accuracy with K-Nearest Neighbor (KNN) imputation: {accuracy_knn:.4f}\")"
      ],
      "metadata": {
        "colab": {
          "base_uri": "https://localhost:8080/"
        },
        "outputId": "e078a039-d1c6-4b5b-ef79-377800513369",
        "id": "EMb2-7_x7LKL"
      },
      "execution_count": 82,
      "outputs": [
        {
          "output_type": "stream",
          "name": "stdout",
          "text": [
            "Accuracy with Hot-Deck imputation: 1.0000\n",
            "Accuracy with Expectation Maximization (EM) imputation: 1.0000\n",
            "Accuracy with K-Nearest Neighbor (KNN) imputation: 1.0000\n"
          ]
        }
      ]
    },
    {
      "cell_type": "code",
      "source": [
        "# Compare the accuracies\n",
        "if accuracy_hd > accuracy_em and accuracy_hd > accuracy_knn:\n",
        "    print(\"Hot-Deck imputation performs the best.\")\n",
        "elif accuracy_em > accuracy_hd and accuracy_em > accuracy_knn:\n",
        "    print(\"Expectation Maximization (EM) imputation performs the best.\")\n",
        "else:\n",
        "    print(\"K-Nearest Neighbor (KNN) imputation performs the best.\")\n"
      ],
      "metadata": {
        "colab": {
          "base_uri": "https://localhost:8080/"
        },
        "outputId": "39c71c63-0c2c-4255-f544-6c500812a223",
        "id": "eot7XJZX7LKL"
      },
      "execution_count": 83,
      "outputs": [
        {
          "output_type": "stream",
          "name": "stdout",
          "text": [
            "K-Nearest Neighbor (KNN) imputation performs the best.\n"
          ]
        }
      ]
    },
    {
      "cell_type": "markdown",
      "source": [
        "# FEATURE SELECTION WITHOUT ONE-HOT ENCODING"
      ],
      "metadata": {
        "id": "ivAdpBeI_LmH"
      }
    },
    {
      "cell_type": "code",
      "source": [
        "from sklearn.ensemble import RandomForestClassifier\n",
        "from sklearn.feature_selection import RFECV\n",
        "from sklearn.model_selection import train_test_split\n",
        "\n",
        "\n",
        "# Splitting the data into features (X) and target (y)\n",
        "X = df_with_knn.drop('label', axis=1)  # Features\n",
        "y = df_with_knn['label']  # Target\n",
        "\n",
        "# Initialize Random Forest Classifier\n",
        "rf_classifier = RandomForestClassifier(random_state=42)\n",
        "\n",
        "# Initialize RFECV\n",
        "rfecv = RFECV(estimator=rf_classifier, step=1, cv=5, scoring='accuracy', n_jobs=-1)\n",
        "\n",
        "# Fit RFECV\n",
        "rfecv.fit(X, y)"
      ],
      "metadata": {
        "colab": {
          "base_uri": "https://localhost:8080/",
          "height": 118
        },
        "id": "RAKm-D7j_fgX",
        "outputId": "1c20ca88-ea10-4b6f-cd18-dd25f3664c54"
      },
      "execution_count": 84,
      "outputs": [
        {
          "output_type": "execute_result",
          "data": {
            "text/plain": [
              "RFECV(cv=5, estimator=RandomForestClassifier(random_state=42), n_jobs=-1,\n",
              "      scoring='accuracy')"
            ],
            "text/html": [
              "<style>#sk-container-id-1 {color: black;background-color: white;}#sk-container-id-1 pre{padding: 0;}#sk-container-id-1 div.sk-toggleable {background-color: white;}#sk-container-id-1 label.sk-toggleable__label {cursor: pointer;display: block;width: 100%;margin-bottom: 0;padding: 0.3em;box-sizing: border-box;text-align: center;}#sk-container-id-1 label.sk-toggleable__label-arrow:before {content: \"▸\";float: left;margin-right: 0.25em;color: #696969;}#sk-container-id-1 label.sk-toggleable__label-arrow:hover:before {color: black;}#sk-container-id-1 div.sk-estimator:hover label.sk-toggleable__label-arrow:before {color: black;}#sk-container-id-1 div.sk-toggleable__content {max-height: 0;max-width: 0;overflow: hidden;text-align: left;background-color: #f0f8ff;}#sk-container-id-1 div.sk-toggleable__content pre {margin: 0.2em;color: black;border-radius: 0.25em;background-color: #f0f8ff;}#sk-container-id-1 input.sk-toggleable__control:checked~div.sk-toggleable__content {max-height: 200px;max-width: 100%;overflow: auto;}#sk-container-id-1 input.sk-toggleable__control:checked~label.sk-toggleable__label-arrow:before {content: \"▾\";}#sk-container-id-1 div.sk-estimator input.sk-toggleable__control:checked~label.sk-toggleable__label {background-color: #d4ebff;}#sk-container-id-1 div.sk-label input.sk-toggleable__control:checked~label.sk-toggleable__label {background-color: #d4ebff;}#sk-container-id-1 input.sk-hidden--visually {border: 0;clip: rect(1px 1px 1px 1px);clip: rect(1px, 1px, 1px, 1px);height: 1px;margin: -1px;overflow: hidden;padding: 0;position: absolute;width: 1px;}#sk-container-id-1 div.sk-estimator {font-family: monospace;background-color: #f0f8ff;border: 1px dotted black;border-radius: 0.25em;box-sizing: border-box;margin-bottom: 0.5em;}#sk-container-id-1 div.sk-estimator:hover {background-color: #d4ebff;}#sk-container-id-1 div.sk-parallel-item::after {content: \"\";width: 100%;border-bottom: 1px solid gray;flex-grow: 1;}#sk-container-id-1 div.sk-label:hover label.sk-toggleable__label {background-color: #d4ebff;}#sk-container-id-1 div.sk-serial::before {content: \"\";position: absolute;border-left: 1px solid gray;box-sizing: border-box;top: 0;bottom: 0;left: 50%;z-index: 0;}#sk-container-id-1 div.sk-serial {display: flex;flex-direction: column;align-items: center;background-color: white;padding-right: 0.2em;padding-left: 0.2em;position: relative;}#sk-container-id-1 div.sk-item {position: relative;z-index: 1;}#sk-container-id-1 div.sk-parallel {display: flex;align-items: stretch;justify-content: center;background-color: white;position: relative;}#sk-container-id-1 div.sk-item::before, #sk-container-id-1 div.sk-parallel-item::before {content: \"\";position: absolute;border-left: 1px solid gray;box-sizing: border-box;top: 0;bottom: 0;left: 50%;z-index: -1;}#sk-container-id-1 div.sk-parallel-item {display: flex;flex-direction: column;z-index: 1;position: relative;background-color: white;}#sk-container-id-1 div.sk-parallel-item:first-child::after {align-self: flex-end;width: 50%;}#sk-container-id-1 div.sk-parallel-item:last-child::after {align-self: flex-start;width: 50%;}#sk-container-id-1 div.sk-parallel-item:only-child::after {width: 0;}#sk-container-id-1 div.sk-dashed-wrapped {border: 1px dashed gray;margin: 0 0.4em 0.5em 0.4em;box-sizing: border-box;padding-bottom: 0.4em;background-color: white;}#sk-container-id-1 div.sk-label label {font-family: monospace;font-weight: bold;display: inline-block;line-height: 1.2em;}#sk-container-id-1 div.sk-label-container {text-align: center;}#sk-container-id-1 div.sk-container {/* jupyter's `normalize.less` sets `[hidden] { display: none; }` but bootstrap.min.css set `[hidden] { display: none !important; }` so we also need the `!important` here to be able to override the default hidden behavior on the sphinx rendered scikit-learn.org. See: https://github.com/scikit-learn/scikit-learn/issues/21755 */display: inline-block !important;position: relative;}#sk-container-id-1 div.sk-text-repr-fallback {display: none;}</style><div id=\"sk-container-id-1\" class=\"sk-top-container\"><div class=\"sk-text-repr-fallback\"><pre>RFECV(cv=5, estimator=RandomForestClassifier(random_state=42), n_jobs=-1,\n",
              "      scoring=&#x27;accuracy&#x27;)</pre><b>In a Jupyter environment, please rerun this cell to show the HTML representation or trust the notebook. <br />On GitHub, the HTML representation is unable to render, please try loading this page with nbviewer.org.</b></div><div class=\"sk-container\" hidden><div class=\"sk-item sk-dashed-wrapped\"><div class=\"sk-label-container\"><div class=\"sk-label sk-toggleable\"><input class=\"sk-toggleable__control sk-hidden--visually\" id=\"sk-estimator-id-1\" type=\"checkbox\" ><label for=\"sk-estimator-id-1\" class=\"sk-toggleable__label sk-toggleable__label-arrow\">RFECV</label><div class=\"sk-toggleable__content\"><pre>RFECV(cv=5, estimator=RandomForestClassifier(random_state=42), n_jobs=-1,\n",
              "      scoring=&#x27;accuracy&#x27;)</pre></div></div></div><div class=\"sk-parallel\"><div class=\"sk-parallel-item\"><div class=\"sk-item\"><div class=\"sk-label-container\"><div class=\"sk-label sk-toggleable\"><input class=\"sk-toggleable__control sk-hidden--visually\" id=\"sk-estimator-id-2\" type=\"checkbox\" ><label for=\"sk-estimator-id-2\" class=\"sk-toggleable__label sk-toggleable__label-arrow\">estimator: RandomForestClassifier</label><div class=\"sk-toggleable__content\"><pre>RandomForestClassifier(random_state=42)</pre></div></div></div><div class=\"sk-serial\"><div class=\"sk-item\"><div class=\"sk-estimator sk-toggleable\"><input class=\"sk-toggleable__control sk-hidden--visually\" id=\"sk-estimator-id-3\" type=\"checkbox\" ><label for=\"sk-estimator-id-3\" class=\"sk-toggleable__label sk-toggleable__label-arrow\">RandomForestClassifier</label><div class=\"sk-toggleable__content\"><pre>RandomForestClassifier(random_state=42)</pre></div></div></div></div></div></div></div></div></div></div>"
            ]
          },
          "metadata": {},
          "execution_count": 84
        }
      ]
    },
    {
      "cell_type": "code",
      "source": [
        "# Print the optimal number of features\n",
        "print(f\"Optimal number of features: {rfecv.n_features_}\")\n",
        "\n",
        "# Get the selected features\n",
        "selected_features = X.columns[rfecv.support_].tolist()\n",
        "print(\"Selected features:\")\n",
        "print(selected_features)\n"
      ],
      "metadata": {
        "colab": {
          "base_uri": "https://localhost:8080/"
        },
        "outputId": "ea544111-9bc7-490a-b403-2677551a0339",
        "id": "l8h6uvRi_fgY"
      },
      "execution_count": 85,
      "outputs": [
        {
          "output_type": "stream",
          "name": "stdout",
          "text": [
            "Optimal number of features: 6\n",
            "Selected features:\n",
            "['pktcount', 'bytecount', 'packetins', 'pktperflow', 'byteperflow', 'pktrate']\n"
          ]
        }
      ]
    },
    {
      "cell_type": "code",
      "source": [
        "import matplotlib.pyplot as plt\n",
        "\n",
        "# Plot number of features vs. cross-validation scores\n",
        "plt.figure(figsize=(10, 6))\n",
        "plt.xlabel(\"Number of features selected\")\n",
        "plt.ylabel(\"Cross validation score (accuracy)\")\n",
        "plt.plot(range(1, len(rfecv.cv_results_['mean_test_score']) + 1), rfecv.cv_results_['mean_test_score'])\n",
        "plt.show()"
      ],
      "metadata": {
        "colab": {
          "base_uri": "https://localhost:8080/",
          "height": 542
        },
        "outputId": "63d59fd1-df4b-4974-8f2b-8441f8c21eb2",
        "id": "D6MDKIMQ_fgY"
      },
      "execution_count": 86,
      "outputs": [
        {
          "output_type": "display_data",
          "data": {
            "text/plain": [
              "<Figure size 1000x600 with 1 Axes>"
            ],
            "image/png": "[encoded data removed]"
          },
          "metadata": {}
        }
      ]
    },
    {
      "cell_type": "markdown",
      "source": [
        "# CREATING FINAL DATAFRAME\n",
        "Same features with and without one-hot encoding, and they don't include the categorical variables which were encoded."
      ],
      "metadata": {
        "id": "9GivX2uaFAKr"
      }
    },
    {
      "cell_type": "code",
      "source": [
        "all_features= selected_features+['label']\n",
        "final_df=df[all_features]"
      ],
      "metadata": {
        "id": "xbOKBJ8uFJQx"
      },
      "execution_count": 92,
      "outputs": []
    },
    {
      "cell_type": "markdown",
      "source": [
        "# SPLITTING THE DATA"
      ],
      "metadata": {
        "id": "2LCOSNuoIcaO"
      }
    },
    {
      "cell_type": "code",
      "source": [
        "from sklearn.model_selection import train_test_split"
      ],
      "metadata": {
        "id": "pRKWHdDpIfW-"
      },
      "execution_count": 95,
      "outputs": []
    },
    {
      "cell_type": "code",
      "source": [
        "shuffled_df = final_df.sample(frac=1, random_state=42)  # Replace 42 with any random seed for reproducibility\n",
        "X_train, X_test, y_train, y_test = train_test_split(shuffled_df.drop('label', axis=1),  # Features (all but target)\n",
        "                                                    shuffled_df['label'],\n",
        "                                                    test_size=0.2,  # Adjust test size (common: 20-30%)\n",
        "                                                    stratify=shuffled_df['label'],  # Stratify by target variable\n",
        "                                                    random_state=42)\n"
      ],
      "metadata": {
        "id": "TIPSUtezIiPJ"
      },
      "execution_count": 97,
      "outputs": []
    },
    {
      "cell_type": "code",
      "source": [
        "from collections import Counter\n",
        "\n",
        "print(\"Training set class distribution:\", Counter(y_train))\n",
        "print(\"Testing set class distribution:\", Counter(y_test))"
      ],
      "metadata": {
        "colab": {
          "base_uri": "https://localhost:8080/"
        },
        "id": "QiV6ZOHIIvR7",
        "outputId": "30ae560f-7f05-41cd-f85e-381a6368dac6"
      },
      "execution_count": 98,
      "outputs": [
        {
          "output_type": "stream",
          "name": "stdout",
          "text": [
            "Training set class distribution: Counter({0: 50849, 1: 32627})\n",
            "Testing set class distribution: Counter({0: 12712, 1: 8157})\n"
          ]
        }
      ]
    },
    {
      "cell_type": "markdown",
      "source": [
        "# MODEL TRAINING"
      ],
      "metadata": {
        "id": "QY_lAYfGNUpV"
      }
    },
    {
      "cell_type": "markdown",
      "source": [
        "## Logistic Regression"
      ],
      "metadata": {
        "id": "z-abNDGRPvLr"
      }
    },
    {
      "cell_type": "code",
      "source": [
        "from sklearn.linear_model import LogisticRegression\n",
        "from sklearn.preprocessing import StandardScaler\n",
        "from sklearn.pipeline import Pipeline\n",
        "from sklearn.model_selection import GridSearchCV\n",
        "from sklearn.metrics import make_scorer, f1_score, roc_auc_score\n",
        "\n",
        "# Define a pipeline to standardize the data and apply logistic regression\n",
        "pipeline = Pipeline([\n",
        "    ('scaler', StandardScaler()),  # Standardize the features\n",
        "    ('logistic_regression', LogisticRegression(random_state=42))  # Logistic regression model\n",
        "])\n",
        "\n",
        "# Define the parameters grid to search over\n",
        "param_grid = {\n",
        "    'logistic_regression__C': [0.001, 0.01, 0.1, 1, 10, 100],  # Regularization strength\n",
        "    'logistic_regression__penalty': ['l1', 'l2'],  # Regularization penalty\n",
        "    'logistic_regression__solver': ['liblinear', 'saga']  # Solver for optimization\n",
        "}\n",
        "\n",
        "# Define scoring metrics\n",
        "scoring = {\n",
        "    'F1 Score': make_scorer(f1_score),\n",
        "    'ROC AUC': make_scorer(roc_auc_score)\n",
        "}\n",
        "\n",
        "# Initialize GridSearchCV\n",
        "grid_search = GridSearchCV(\n",
        "    pipeline,  # Pipeline object\n",
        "    param_grid=param_grid,  # Parameters grid\n",
        "    scoring=scoring,  # Scoring metrics\n",
        "    refit='F1 Score',  # Metric to refit on, i.e., F1 Score\n",
        "    cv=5,  # 5-fold cross-validation\n",
        "    verbose=1,  # Verbosity level\n",
        "    n_jobs=-1  # Use all available CPU cores\n",
        ")\n",
        "\n",
        "# Train the model using GridSearchCV\n",
        "grid_search.fit(X_train, y_train)\n",
        "\n",
        "# Get the best parameters and best scores\n",
        "best_params = grid_search.best_params_\n",
        "best_score = grid_search.best_score_\n",
        "\n",
        "print(f\"Best Parameters: {best_params}\")\n",
        "print(f\"Best F1 Score: {best_score}\")\n"
      ],
      "metadata": {
        "colab": {
          "base_uri": "https://localhost:8080/"
        },
        "id": "gf2X8SvKNWpM",
        "outputId": "48fa5909-755a-4e29-b71c-e123901b7148"
      },
      "execution_count": 107,
      "outputs": [
        {
          "output_type": "stream",
          "name": "stdout",
          "text": [
            "Fitting 5 folds for each of 24 candidates, totalling 120 fits\n",
            "Best Parameters: {'logistic_regression__C': 100, 'logistic_regression__penalty': 'l2', 'logistic_regression__solver': 'liblinear'}\n",
            "Best F1 Score: 0.62447692648817\n"
          ]
        }
      ]
    },
    {
      "cell_type": "markdown",
      "source": [
        "## Decision Trees"
      ],
      "metadata": {
        "id": "TW9CeaxZV8jx"
      }
    },
    {
      "cell_type": "code",
      "source": [
        "from sklearn.tree import DecisionTreeClassifier\n",
        "from sklearn.model_selection import GridSearchCV\n",
        "from sklearn.metrics import make_scorer, f1_score, roc_auc_score\n",
        "\n",
        "# Define a Decision Tree classifier\n",
        "decision_tree = DecisionTreeClassifier(random_state=42)\n",
        "\n",
        "# Define the parameters grid to search over\n",
        "param_grid = {\n",
        "    'criterion': ['gini', 'entropy'],  # Splitting criterion\n",
        "    'max_depth': [None, 10, 20, 30, 40, 50],  # Maximum depth of the tree\n",
        "    'min_samples_split': [2, 5, 10],  # Minimum number of samples required to split an internal node\n",
        "    'min_samples_leaf': [1, 2, 4]  # Minimum number of samples required to be at a leaf node\n",
        "}\n",
        "\n",
        "# Define scoring metrics\n",
        "scoring = {\n",
        "    'F1 Score': make_scorer(f1_score),\n",
        "    'ROC AUC': make_scorer(roc_auc_score)\n",
        "}\n",
        "\n",
        "# Initialize GridSearchCV\n",
        "grid_search = GridSearchCV(\n",
        "    decision_tree,  # Decision Tree classifier\n",
        "    param_grid=param_grid,  # Parameters grid\n",
        "    scoring=scoring,  # Scoring metrics\n",
        "    refit='F1 Score',  # Metric to refit on, i.e., F1 Score\n",
        "    cv=5,  # 5-fold cross-validation\n",
        "    verbose=1,  # Verbosity level\n",
        "    n_jobs=-1  # Use all available CPU cores\n",
        ")\n",
        "\n",
        "# Train the model using GridSearchCV\n",
        "grid_search.fit(X_train, y_train)\n",
        "\n",
        "# Get the best parameters and best scores\n",
        "best_params = grid_search.best_params_\n",
        "best_score = grid_search.best_score_\n",
        "\n",
        "print(f\"Best Parameters: {best_params}\")\n",
        "print(f\"Best F1 Score: {best_score}\")\n"
      ],
      "metadata": {
        "colab": {
          "base_uri": "https://localhost:8080/"
        },
        "id": "STUko2zKV-e3",
        "outputId": "db3c2ead-cb8d-466e-d2e3-22ba2cd97c12"
      },
      "execution_count": 108,
      "outputs": [
        {
          "output_type": "stream",
          "name": "stdout",
          "text": [
            "Fitting 5 folds for each of 108 candidates, totalling 540 fits\n",
            "Best Parameters: {'criterion': 'entropy', 'max_depth': None, 'min_samples_leaf': 1, 'min_samples_split': 2}\n",
            "Best F1 Score: 0.9999693439607602\n"
          ]
        }
      ]
    },
    {
      "cell_type": "markdown",
      "source": [
        "## Random Forest"
      ],
      "metadata": {
        "id": "i1K37mE-V_kW"
      }
    },
    {
      "cell_type": "code",
      "source": [
        "from sklearn.ensemble import RandomForestClassifier\n",
        "\n",
        "\n",
        "# Define a Random Forest classifier\n",
        "random_forest = RandomForestClassifier(random_state=42)\n",
        "\n",
        "# Define the parameters grid to search over\n",
        "param_grid = {\n",
        "    'n_estimators': [50, 100, 150],  # Number of trees in the forest\n",
        "    'criterion': ['gini', 'entropy'],  # Splitting criterion\n",
        "    'max_depth': [None, 10, 20, 30],  # Maximum depth of the trees\n",
        "    'min_samples_split': [2, 5, 10],  # Minimum number of samples required to split an internal node\n",
        "    'min_samples_leaf': [1, 2, 4]  # Minimum number of samples required to be at a leaf node\n",
        "}\n",
        "\n",
        "# Define scoring metrics\n",
        "scoring = {\n",
        "    'F1 Score': make_scorer(f1_score),\n",
        "    'ROC AUC': make_scorer(roc_auc_score)\n",
        "}\n",
        "\n",
        "# Initialize GridSearchCV\n",
        "grid_search = GridSearchCV(\n",
        "    random_forest,  # Random Forest classifier\n",
        "    param_grid=param_grid,  # Parameters grid\n",
        "    scoring=scoring,  # Scoring metrics\n",
        "    refit='F1 Score',  # Metric to refit on, i.e., F1 Score\n",
        "    cv=5,  # 5-fold cross-validation\n",
        "    verbose=1,  # Verbosity level\n",
        "    n_jobs=-1  # Use all available CPU cores\n",
        ")\n",
        "\n",
        "# Train the model using GridSearchCV\n",
        "grid_search.fit(X_train, y_train)\n",
        "\n",
        "# Get the best parameters and best scores\n",
        "best_params = grid_search.best_params_\n",
        "best_score = grid_search.best_score_\n",
        "\n",
        "print(f\"Best Parameters: {best_params}\")\n",
        "print(f\"Best F1 Score: {best_score}\")\n"
      ],
      "metadata": {
        "colab": {
          "base_uri": "https://localhost:8080/"
        },
        "id": "_prCTrv8WCuO",
        "outputId": "d60cf174-bd1a-4c5a-d9fa-4343713cc9a1"
      },
      "execution_count": null,
      "outputs": [
        {
          "metadata": {
            "tags": null
          },
          "name": "stdout",
          "output_type": "stream",
          "text": [
            "Fitting 5 folds for each of 216 candidates, totalling 1080 fits\n"
          ]
        }
      ]
    },
    {
      "cell_type": "markdown",
      "source": [
        "## SVM"
      ],
      "metadata": {
        "id": "Ic0nJBCuWNMw"
      }
    },
    {
      "cell_type": "code",
      "source": [
        "from sklearn.svm import SVC\n",
        "from sklearn.model_selection import GridSearchCV\n",
        "from sklearn.metrics import make_scorer, f1_score, roc_auc_score\n",
        "\n",
        "# Define an SVM classifier\n",
        "svm_classifier = SVC(random_state=42, probability=True)  # Setting probability to True for ROC AUC calculation\n",
        "\n",
        "# Define the parameters grid to search over\n",
        "param_grid = {\n",
        "    'C': [0.1, 1, 10],  # Regularization parameter\n",
        "    'kernel': ['linear', 'poly', 'rbf', 'sigmoid'],  # Kernel type\n",
        "    'gamma': ['scale', 'auto'],  # Kernel coefficient\n",
        "    'degree': [2, 3, 4],  # Degree of the polynomial kernel\n",
        "    'class_weight': [None, 'balanced']  # Weights associated with classes\n",
        "}\n",
        "\n",
        "# Define scoring metrics\n",
        "scoring = {\n",
        "    'F1 Score': make_scorer(f1_score),\n",
        "    'ROC AUC': make_scorer(roc_auc_score)\n",
        "}\n",
        "\n",
        "# Initialize GridSearchCV\n",
        "grid_search = GridSearchCV(\n",
        "    svm_classifier,  # SVM classifier\n",
        "    param_grid=param_grid,  # Parameters grid\n",
        "    scoring=scoring,  # Scoring metrics\n",
        "    refit='F1 Score',  # Metric to refit on, i.e., F1 Score\n",
        "    cv=5,  # 5-fold cross-validation\n",
        "    verbose=1,  # Verbosity level\n",
        "    n_jobs=-1  # Use all available CPU cores\n",
        ")\n",
        "\n",
        "# Train the model using GridSearchCV\n",
        "grid_search.fit(X_train, y_train)\n",
        "\n",
        "# Get the best parameters and best scores\n",
        "best_params = grid_search.best_params_\n",
        "best_score = grid_search.best_score_\n",
        "\n",
        "print(f\"Best Parameters: {best_params}\")\n",
        "print(f\"Best F1 Score: {best_score}\")\n"
      ],
      "metadata": {
        "id": "ZnXjnCVEWPM7"
      },
      "execution_count": null,
      "outputs": []
    },
    {
      "cell_type": "markdown",
      "source": [
        "## Gradient Boosting"
      ],
      "metadata": {
        "id": "oIc3oo42WZEh"
      }
    },
    {
      "cell_type": "code",
      "source": [
        "import xgboost as xgb\n",
        "from sklearn.model_selection import GridSearchCV\n",
        "from sklearn.metrics import make_scorer, f1_score, roc_auc_score\n",
        "\n",
        "# Define an XGBoost classifier\n",
        "xgb_classifier = xgb.XGBClassifier(random_state=42)\n",
        "\n",
        "# Define the parameters grid to search over\n",
        "param_grid = {\n",
        "    'learning_rate': [0.01, 0.05, 0.1],\n",
        "    'n_estimators': [50, 100, 200],\n",
        "    'max_depth': [3, 4, 5],\n",
        "    'min_child_weight': [1, 3, 5],\n",
        "    'gamma': [0, 0.1, 0.2],\n",
        "    'subsample': [0.6, 0.8, 1.0],\n",
        "    'colsample_bytree': [0.6, 0.8, 1.0],\n",
        "    'reg_alpha': [0, 0.1, 0.5],\n",
        "    'reg_lambda': [1, 1.5, 2],\n",
        "    'scale_pos_weight': [1, 3, 5]\n",
        "}\n",
        "\n",
        "# Define scoring metrics\n",
        "scoring = {\n",
        "    'F1 Score': make_scorer(f1_score),\n",
        "    'ROC AUC': make_scorer(roc_auc_score)\n",
        "}\n",
        "\n",
        "# Initialize GridSearchCV\n",
        "grid_search = GridSearchCV(\n",
        "    xgb_classifier,  # XGBoost classifier\n",
        "    param_grid=param_grid,  # Parameters grid\n",
        "    scoring=scoring,  # Scoring metrics\n",
        "    refit='F1 Score',  # Metric to refit on, i.e., F1 Score\n",
        "    cv=5,  # 5-fold cross-validation\n",
        "    verbose=1,  # Verbosity level\n",
        "    n_jobs=-1  # Use all available CPU cores\n",
        ")\n",
        "\n",
        "# Train the model using GridSearchCV\n",
        "grid_search.fit(X_train, y_train)\n",
        "\n",
        "# Get the best parameters and best scores\n",
        "best_params = grid_search.best_params_\n",
        "best_score = grid_search.best_score_\n",
        "\n",
        "print(f\"Best Parameters: {best_params}\")\n",
        "print(f\"Best F1 Score: {best_score}\")\n"
      ],
      "metadata": {
        "id": "s31rH2x9WfFT"
      },
      "execution_count": null,
      "outputs": []
    },
    {
      "cell_type": "markdown",
      "source": [
        "## Neural Networks"
      ],
      "metadata": {
        "id": "B6_PwQHBW2KW"
      }
    },
    {
      "cell_type": "code",
      "source": [
        "!pip install torch torchvision"
      ],
      "metadata": {
        "id": "IIWtfhrcW4tc"
      },
      "execution_count": null,
      "outputs": []
    },
    {
      "cell_type": "code",
      "source": [
        "import torch\n",
        "import torch.nn as nn\n",
        "import torch.optim as optim\n",
        "from sklearn.model_selection import GridSearchCV\n",
        "from sklearn.metrics import make_scorer, f1_score, roc_auc_score\n",
        "\n",
        "# Define a simple feedforward neural network using PyTorch\n",
        "class NeuralNetwork(nn.Module):\n",
        "    def __init__(self, input_dim, hidden_dim, output_dim):\n",
        "        super(NeuralNetwork, self).__init__()\n",
        "        self.fc1 = nn.Linear(input_dim, hidden_dim)\n",
        "        self.fc2 = nn.Linear(hidden_dim, output_dim)\n",
        "        self.relu = nn.ReLU()\n",
        "        self.softmax = nn.Softmax(dim=1)\n",
        "\n",
        "    def forward(self, x):\n",
        "        x = self.fc1(x)\n",
        "        x = self.relu(x)\n",
        "        x = self.fc2(x)\n",
        "        x = self.softmax(x)\n",
        "        return x\n",
        "\n",
        "# Initialize the neural network\n",
        "input_dim = X_train.shape[1]\n",
        "output_dim = 2  # Binary classification\n",
        "neural_network = NeuralNetwork(input_dim, 128, output_dim)\n",
        "\n",
        "# Convert data to PyTorch tensors\n",
        "X_train_tensor = torch.tensor(X_train.values, dtype=torch.float32)\n",
        "y_train_tensor = torch.tensor(y_train.values, dtype=torch.long)\n",
        "\n",
        "# Define the loss function and optimizer\n",
        "criterion = nn.CrossEntropyLoss()\n",
        "optimizer = optim.Adam(neural_network.parameters(), lr=0.001)\n",
        "\n",
        "# Define the parameters grid to search over\n",
        "param_grid = {\n",
        "    'hidden_dim': [64, 128, 256],  # Number of units in the hidden layer\n",
        "    'optimizer': [optim.Adam, optim.SGD],  # Optimizer\n",
        "    'lr': [0.001, 0.01, 0.1]  # Learning rate\n",
        "}\n",
        "\n",
        "# Define scoring metrics\n",
        "scoring = {\n",
        "    'F1 Score': make_scorer(f1_score),\n",
        "    'ROC AUC': make_scorer(roc_auc_score)\n",
        "}\n",
        "\n",
        "# Define a custom PyTorch classifier for GridSearchCV\n",
        "class PyTorchClassifier(nn.Module):\n",
        "    def __init__(self, neural_network):\n",
        "        super(PyTorchClassifier, self).__init__()\n",
        "        self.neural_network = neural_network\n",
        "\n",
        "    def forward(self, x):\n",
        "        return self.neural_network(x)\n",
        "\n",
        "# Initialize GridSearchCV\n",
        "pytorch_classifier = PyTorchClassifier(neural_network)\n",
        "grid_search = GridSearchCV(\n",
        "    pytorch_classifier,  # PyTorch classifier\n",
        "    param_grid=param_grid,  # Parameters grid\n",
        "    scoring=scoring,  # Scoring metrics\n",
        "    refit='F1 Score',  # Metric to refit on, i.e., F1 Score\n",
        "    cv=5,  # 5-fold cross-validation\n",
        "    verbose=1,  # Verbosity level\n",
        "    n_jobs=-1  # Use all available CPU cores\n",
        ")\n",
        "\n",
        "# Train the model using GridSearchCV\n",
        "grid_search.fit(X_train_tensor, y_train_tensor)\n",
        "\n",
        "# Get the best parameters and best scores\n",
        "best_params = grid_search.best_params_\n",
        "best_score = grid_search.best_score_\n",
        "\n",
        "print(f\"Best Parameters: {best_params}\")\n",
        "print(f\"Best F1 Score: {best_score}\")\n"
      ],
      "metadata": {
        "id": "Zrd1pnVeX3LG"
      },
      "execution_count": null,
      "outputs": []
    }
  ]
}
